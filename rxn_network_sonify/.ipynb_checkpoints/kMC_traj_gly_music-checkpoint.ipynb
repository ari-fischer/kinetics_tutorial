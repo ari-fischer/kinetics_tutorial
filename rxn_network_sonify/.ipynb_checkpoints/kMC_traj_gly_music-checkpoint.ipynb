{
 "cells": [
  {
   "cell_type": "code",
   "execution_count": null,
   "id": "dc74d189",
   "metadata": {},
   "outputs": [],
   "source": [
    "import numpy as np\n",
    "from music21 import *"
   ]
  },
  {
   "cell_type": "code",
   "execution_count": null,
   "id": "8d237e8a",
   "metadata": {},
   "outputs": [],
   "source": [
    "# Henry's law constant for O2\n",
    "HL_O2 = 0.0013 \n",
    "# O2 partial pressure in air\n",
    "P_O2 = 0.2\n",
    "# aqueous concentration of O2\n",
    "C_O2 = P_O2*HL_O2 #O2 concentration\n",
    "# concentration of OH radicals\n",
    "C_OH = 1E-14\n",
    "K_glyox = 10**(-3.3)\n",
    "#[H+]; basic conditions\n",
    "C_H3Op = 1E-5"
   ]
  },
  {
   "cell_type": "code",
   "execution_count": null,
   "id": "cfb4dfe7",
   "metadata": {},
   "outputs": [],
   "source": [
    "def min_max_scale(xs,new_min,new_max):\n",
    "    x_min = np.min(xs)\n",
    "    x_max = np.max(xs)\n",
    "    x_out = ((xs-x_min)/(x_max-x_min))*(new_max-new_min)+new_min\n",
    "    return x_out"
   ]
  },
  {
   "cell_type": "code",
   "execution_count": null,
   "id": "c87063ad",
   "metadata": {},
   "outputs": [],
   "source": [
    "#rate constants\n",
    "ks_0 = np.array([1.1E9,1.0E6,50,3.62E8,1.0E6,50,2.9E9,1.0E6,10,1E-10,1E-10])\n",
    "#modify ks to be psuedo-first order rate constants from given state\n",
    "ks_mod = np.array([C_OH,C_O2,1,C_OH,C_O2,1,C_OH*K_glyox/C_H3Op,C_O2,1,1,1])\n",
    "ks = ks_0*ks_mod\n",
    "ks = min_max_scale(ks,0.8,1.2)"
   ]
  },
  {
   "cell_type": "code",
   "execution_count": null,
   "id": "53979880",
   "metadata": {},
   "outputs": [],
   "source": [
    "# make an array of all of the starting points\n",
    "L_0 = np.array([1,2,3,4,5,6,4,9,10,7,11])\n",
    "L_f = np.array([2,3,4,5,6,7,9,10,11,1,1])"
   ]
  },
  {
   "cell_type": "code",
   "execution_count": null,
   "id": "5c79e00e",
   "metadata": {},
   "outputs": [],
   "source": [
    "#now, have matricies needed to calculate transions. run MKM\n",
    "#possible states:\n",
    "#states specified by column_heads, start with 0\n",
    "l = 1\n",
    "\n",
    "trials = 40\n",
    "\n",
    "t= 0 \n",
    "ts = list([t])\n",
    "ls = list([l])"
   ]
  },
  {
   "cell_type": "code",
   "execution_count": null,
   "id": "f274eafb",
   "metadata": {},
   "outputs": [],
   "source": [
    "for i in range(trials):\n",
    "    n1 = np.random.rand(1) #rand for the particular process selected\n",
    "    n2 = np.random.rand(1) #rand for  the time step\n",
    "    \n",
    "    #find indices of all rate transitions from current step by matching l to L_0\n",
    "    ind_steps = np.where(L_0 == l)[0]\n",
    "    \n",
    "    ks_move = ks[ind_steps] # array of rate constants with those steps\n",
    "    #sum to get the total\n",
    "    k_tot = np.sum(ks_move)\n",
    "    #find the escape probability \n",
    "    p_esc = k_tot*np.exp(-k_tot*t)\n",
    "    \n",
    "    #stack the ks to search for which transition to select\n",
    "    k_stack = np.cumsum(ks_move)\n",
    "    select = n1*k_tot    \n",
    "    #find all of the steps (rows) that have an extent of reaction of index l that is non-zero\n",
    "    #find the move to make\n",
    "    indexes = np.arange(len(k_stack))\n",
    "    ind_move = indexes[k_stack>select][0]\n",
    "\n",
    "    #find the value that is == 1 and assign l to that index\n",
    "    l = L_f[ind_steps[ind_move]]\n",
    "    t += - np.log(n2)/k_tot #t estable\n",
    "    ts.append(t[0])\n",
    "    ls.append(l)"
   ]
  },
  {
   "cell_type": "code",
   "execution_count": null,
   "id": "457d6594",
   "metadata": {},
   "outputs": [],
   "source": [
    "#notes for each state\n",
    "key = 'D_M'\n",
    "if key == 'C_M':\n",
    "    L_notes = list(['C3','E3','B3','B3','F4','A4','A4',\n",
    "              'B3','F4','B4','B4'])\n",
    "elif key == 'D_M':     \n",
    "    L_notes = list(['D3','F#3','C#4','C#4','G4','B4','B4',\n",
    "              'C#4','F#4','C#5','C#5'])"
   ]
  },
  {
   "cell_type": "code",
   "execution_count": null,
   "id": "dc57a65a",
   "metadata": {},
   "outputs": [],
   "source": [
    "#start with...\n",
    "del_ts = np.array(ts[1:])-np.array(ts[:-1])\n",
    "del_ts = min_max_scale(del_ts,0.5,2)\n",
    "del_ts=del_ts/np.mean(del_ts)"
   ]
  },
  {
   "cell_type": "code",
   "execution_count": null,
   "id": "a146c59d",
   "metadata": {},
   "outputs": [],
   "source": [
    "n = note.Note(L_notes[ls[0]-1])\n",
    "n.duration.quarterLength = del_ts[0]\n",
    "\n",
    "stream1 = stream.Stream(n)\n",
    "#[stream1.append(note.Note(x)) for x in mel[1:]]\n",
    "\n",
    "for i in range(len(ls)-2):\n",
    "\n",
    "    \n",
    "    n = note.Note(L_notes[ls[i+1]-1])\n",
    "    n.duration.quarterLength = del_ts[i+1]\n",
    "    stream1.append(n) \n",
    "\n",
    "    \n",
    "stream1.show('midi')\n",
    "#seems pretty good...\n",
    "stream1.write('midi', fp='kMC_reactor_traj5.midi')"
   ]
  }
 ],
 "metadata": {
  "kernelspec": {
   "display_name": "Python 3 (ipykernel)",
   "language": "python",
   "name": "python3"
  },
  "language_info": {
   "codemirror_mode": {
    "name": "ipython",
    "version": 3
   },
   "file_extension": ".py",
   "mimetype": "text/x-python",
   "name": "python",
   "nbconvert_exporter": "python",
   "pygments_lexer": "ipython3",
   "version": "3.11.1"
  }
 },
 "nbformat": 4,
 "nbformat_minor": 5
}
