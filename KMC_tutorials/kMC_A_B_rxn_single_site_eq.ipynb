{
 "cells": [
  {
   "cell_type": "code",
   "execution_count": 27,
   "id": "0eb21f6b",
   "metadata": {},
   "outputs": [],
   "source": [
    "# this notebook is a tutorial for running a kinetic monte carlo simulation for a surface catalyzed reaction to obtain equilibrium behaviors"
   ]
  },
  {
   "cell_type": "code",
   "execution_count": 28,
   "id": "2474db60",
   "metadata": {},
   "outputs": [],
   "source": [
    "import numpy as np\n",
    "import scipy as sci\n",
    "import matplotlib.pyplot as plt"
   ]
  },
  {
   "cell_type": "code",
   "execution_count": 29,
   "id": "de6aebce",
   "metadata": {},
   "outputs": [],
   "source": [
    "#have A + * <-> A* <-> B* <-> B + *\n",
    "\n",
    "#the rules are:\n",
    "\n",
    "# if L1 - *,\n",
    "# transition to:\n",
    "# L1 - A* \n",
    "# kA_a * N_A/(N_A + N_B) # A adsorption\n",
    "# L1 - B*\n",
    "# kB_a * N_B/(N_A + N_B) # B adsorption\n",
    "\n",
    "kA_a0 = 10\n",
    "kB_a0 = 1\n",
    "\n",
    "# if L1 - A*,\n",
    "# transition to:\n",
    "# L1 - *,\n",
    "# kA_d  # A desorption\n",
    "# L1 - B* \n",
    "# k_AB # convert to B\n",
    "\n",
    "kA_d = 1\n",
    "k_AB = .1\n",
    "\n",
    "# if L1 - B*,\n",
    "# transition to:\n",
    "# L1 - *,\n",
    "# kB_d  # B desorption\n",
    "# L1 - A* \n",
    "# k_BA # convert to A\n",
    "\n",
    "kB_d = .1\n",
    "k_BA = .01"
   ]
  },
  {
   "cell_type": "code",
   "execution_count": 30,
   "id": "26a9dade",
   "metadata": {},
   "outputs": [],
   "source": [
    "# initialize:\n",
    "\n",
    "N_A = 1000\n",
    "N_B = 0\n",
    "\n",
    "t = 0\n",
    "\n",
    "trials = 100000\n",
    "\n",
    "L = 0 #0 - empty, 1 - A*, 2 - B*\n",
    "\n",
    "N_As = list([N_A])\n",
    "N_Bs = list([N_B])\n",
    "ts = list([t])\n",
    "\n",
    "r_b = 0\n",
    "#want to track the A/B ratio with time, I think"
   ]
  },
  {
   "cell_type": "code",
   "execution_count": 31,
   "id": "5e475299",
   "metadata": {},
   "outputs": [],
   "source": [
    "for i in range(trials):\n",
    "    u1 = np.random.rand(1) #rand for the particular process selected\n",
    "    u2 = np.random.rand(1) #rand for  the time step\n",
    "    if L == 0: #vacant site\n",
    "        #adsorption\n",
    "        kA_a = kA_a0 * (N_A)/(N_A + N_B) #adsorption rate of A based on prevalent A mole fraction\n",
    "        kB_a = kB_a0 * (N_B)/(N_A + N_B) #adsorption rate of B based on prevalent B mole fraction\n",
    "        ks = np.array([kA_a,kB_a])\n",
    "        k_tot = np.sum(ks) \n",
    "        k_stack = np.cumsum(ks)\n",
    "        select = u1*k_tot\n",
    "        #pick the first one that is larger than select\n",
    "        indexes = np.arange(len(k_stack))\n",
    "        ind_move = indexes[k_stack>select][0] \n",
    "        if ind_move == 0:\n",
    "            L = 1\n",
    "            N_A += -1\n",
    "        elif ind_move == 1:\n",
    "            L = 2\n",
    "            N_B += -1\n",
    "        \n",
    "    elif L == 1: #A covered\n",
    "        # A desorbs or reacts to form B\n",
    "        ks = np.array([kA_d,k_AB ])\n",
    "    \n",
    "        k_tot = np.sum(ks) \n",
    "\n",
    "        p_esc = k_tot*np.exp(-k_tot*t) #propability of escape\n",
    "\n",
    "        k_stack = np.cumsum(ks)\n",
    "    \n",
    "        select = u1*k_tot\n",
    "        #pick the first one that is larger than select\n",
    "        indexes = np.arange(len(k_stack))\n",
    "\n",
    "        ind_move = indexes[k_stack>select][0]\n",
    "        \n",
    "        if ind_move == 0:\n",
    "            L = 0\n",
    "            N_A += 1\n",
    "        elif ind_move == 1:\n",
    "            L = 2\n",
    "            \n",
    "    elif L == 2: #B covered\n",
    "        # B desorbs or reacts to form A\n",
    "        ks = np.array([kB_d,k_BA ])\n",
    "    \n",
    "        k_tot = np.sum(ks) \n",
    "\n",
    "        p_esc = k_tot*np.exp(-k_tot*t) #propability of escape\n",
    "\n",
    "        k_stack = np.cumsum(ks)\n",
    "    \n",
    "        select = u1*k_tot\n",
    "        #pick the first one that is larger than select\n",
    "        indexes = np.arange(len(k_stack))\n",
    "\n",
    "        ind_move = indexes[k_stack>select][0]\n",
    "        \n",
    "        if ind_move == 0:\n",
    "            L = 0\n",
    "            N_B += 1\n",
    "            k_b = +kB_d\n",
    "        elif ind_move == 1:\n",
    "            L = 1     \n",
    "    \n",
    "    t += - np.log(u2)/k_tot #t estable\n",
    "    ts.append(t[0])\n",
    "    \n",
    "    N_As.append(N_A)\n",
    "    N_Bs.append(N_B)\n",
    "\n",
    "\n",
    "    \n",
    "    "
   ]
  },
  {
   "cell_type": "code",
   "execution_count": 32,
   "id": "dff0c1e7",
   "metadata": {},
   "outputs": [
    {
     "data": {
      "text/plain": [
       "<matplotlib.legend.Legend at 0x11c69fa90>"
      ]
     },
     "execution_count": 32,
     "metadata": {},
     "output_type": "execute_result"
    },
    {
     "data": {
      "image/png": "[encoded data removed]",
      "text/plain": [
       "<Figure size 640x480 with 1 Axes>"
      ]
     },
     "metadata": {},
     "output_type": "display_data"
    }
   ],
   "source": [
    "N_tot = N_A + N_B\n",
    "\n",
    "plt.plot(ts,np.array(N_As)/N_tot,label = 'A')\n",
    "plt.plot(ts,np.array(N_Bs)/N_tot,'o',label = 'B')\n",
    "plt.xlabel('Time')\n",
    "plt.ylabel('Mole fraction')\n",
    "plt.legend()"
   ]
  },
  {
   "cell_type": "code",
   "execution_count": 33,
   "id": "98eed7a6",
   "metadata": {},
   "outputs": [
    {
     "data": {
      "text/plain": [
       "9.88742595180897"
      ]
     },
     "execution_count": 33,
     "metadata": {},
     "output_type": "execute_result"
    }
   ],
   "source": [
    "#obtain equilibirum ratio from trajectory:\n",
    "#first, find the index where time is >150,000\n",
    "ts_np = np.array(ts)\n",
    "t_eq = ts_np[(ts_np)>150000][0]\n",
    "ind_eq = np.where(ts_np==t_eq)\n",
    "\n",
    "#then find the the mean ratio of A and B at all times afterwards\n",
    "np.mean(N_Bs[int(ind_eq[0]):])/np.mean(N_As[int(ind_eq[0]):])"
   ]
  },
  {
   "cell_type": "code",
   "execution_count": 34,
   "id": "fd08b489",
   "metadata": {},
   "outputs": [
    {
     "name": "stdout",
     "output_type": "stream",
     "text": [
      "10.0\n"
     ]
    }
   ],
   "source": [
    "#what is the equilibrium?\n",
    "#[kA_a,kB_a,kA_a,k_AB,kB_a,k_BA]\n",
    "\n",
    "K1 = kA_a0/kA_d\n",
    "K2 = k_AB/k_BA\n",
    "K3 = kB_d/kB_a0\n",
    "\n",
    "K_AB_eq = K1*K2*K3\n",
    "print(K_AB_eq)"
   ]
  }
 ],
 "metadata": {
  "kernelspec": {
   "display_name": "Python 3 (ipykernel)",
   "language": "python",
   "name": "python3"
  },
  "language_info": {
   "codemirror_mode": {
    "name": "ipython",
    "version": 3
   },
   "file_extension": ".py",
   "mimetype": "text/x-python",
   "name": "python",
   "nbconvert_exporter": "python",
   "pygments_lexer": "ipython3",
   "version": "3.11.1"
  }
 },
 "nbformat": 4,
 "nbformat_minor": 5
}
